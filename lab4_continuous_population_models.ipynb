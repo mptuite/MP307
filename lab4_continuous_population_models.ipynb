{
 "cells": [
  {
   "cell_type": "markdown",
   "metadata": {},
   "source": [
    "#  MP307 Practical 4 Continuous Population Models"
   ]
  },
  {
   "cell_type": "code",
   "execution_count": null,
   "metadata": {},
   "outputs": [],
   "source": [
    "\n"
   ]
  },
  {
   "cell_type": "code",
   "execution_count": 1,
   "metadata": {
    "tags": []
   },
   "outputs": [],
   "source": [
    "%matplotlib inline\n",
    "\n",
    "import numpy as np\n",
    "import matplotlib.pyplot as plt\n",
    "from scipy.integrate import odeint"
   ]
  },
  {
   "cell_type": "markdown",
   "metadata": {},
   "source": [
    "### Q1.(*) Verhulst Logistic Model.\n",
    "Consider the logistic population model \n",
    "$$\n",
    "\\frac{dP}{dt}=rP\\left(1-\\frac{P}{K}\\right)\n",
    "$$\n",
    "for $r,K>0$ as a model of the US population from 1790 to 1990. The data for\n",
    "this are as given in the worksheet Q2. of `lab3_discrete_population_models.ipynb` as follows:"
   ]
  },
  {
   "cell_type": "code",
   "execution_count": null,
   "metadata": {},
   "outputs": [],
   "source": [
    "Year = [1790, 1820, 1830, 1840, 1850, 1860, 1870, 1880, 1890, 1900, 1910, 1920, 1930, \n",
    "        1940, 1950, 1960, 1970, 1980, 1990]\n",
    "Pop= [3.79, 9.6, 12.9, 17.1, 23.2, 31.4, 38.6, 50.2, 62.9, 76.0, 92.0, 106.5, 123.2, \n",
    "      132.0, 151.3, 179.3, 203.3, 226.54, 248.7]"
   ]
  },
  {
   "cell_type": "code",
   "execution_count": null,
   "metadata": {},
   "outputs": [],
   "source": [
    "# plot of data\n",
    "plt.figure(1)\n",
    "plt.plot(Year,Pop,'bo')\n",
    "plt.axis([1780,2000,0,260])\n",
    "plt.title('Population of US')\n",
    "plt.show()"
   ]
  },
  {
   "cell_type": "markdown",
   "metadata": {},
   "source": [
    "The Logistic differential equation has solution\n",
    "$$\n",
    "P(t)=\\frac{K}{1+\\left(\\frac{K}{P_{0}}-1\\right)e^{-rt}}\n",
    "%\\left(1/K+(1/P_{0}-1/K) e^{-rt} \\right)^{-1}\n",
    "$$"
   ]
  },
  {
   "cell_type": "code",
   "execution_count": null,
   "metadata": {},
   "outputs": [],
   "source": [
    "#Logistic Model\n",
    "\n",
    "# Python function for Logistic solution where t=0 is 1790\n",
    "def P(t):\n",
    "    P_0=3.79\n",
    "    r=0.3 #  in inverse decades\n",
    "    K=300.0\n",
    "    ans=K/(1.+(K/P_0-1.)*np.exp(-r*t))\n",
    "    return ans"
   ]
  },
  {
   "cell_type": "code",
   "execution_count": null,
   "metadata": {},
   "outputs": [],
   "source": [
    "P(0)"
   ]
  },
  {
   "cell_type": "code",
   "execution_count": null,
   "metadata": {},
   "outputs": [],
   "source": [
    "# plot Verhulst pop PV from 1790 to 1990 with 10 year intervals\n",
    "PV=[0]*21 # list for Verhulst P initialized with 20 zeros\n",
    "YV=[0]*21 # list for years initialized with 20 zeros\n",
    "\n",
    "# choose 10 year intervals\n",
    "for n in range(1,21):\n",
    "    YV[n]=1790+10*n\n",
    "    PV[n]=P(n)"
   ]
  },
  {
   "cell_type": "code",
   "execution_count": null,
   "metadata": {},
   "outputs": [],
   "source": [
    "plt.figure(2)\n",
    "plt.plot(Year,Pop,'bo')\n",
    "plt.plot(YV,PV,'r-')\n",
    "plt.axis([1780,2000,0,260])\n",
    "plt.title('Population of US')\n",
    "plt.show()"
   ]
  },
  {
   "cell_type": "code",
   "execution_count": null,
   "metadata": {},
   "outputs": [],
   "source": []
  },
  {
   "cell_type": "markdown",
   "metadata": {},
   "source": [
    "### Q.2(*) Competitive Species Model \n",
    "Consider two species with population sizes $P_{1},P_{2}$ with growth rates $r_{1},r_{2}$ and limiting population sizes\n",
    "of $K_{1},K_{2}$ where \n",
    "\\begin{eqnarray*}\n",
    "\\frac{dP_{1}}{dt} &=&r_{1}P_{1}\\left(1-\\frac{P_{1}+P_{2} }{K_{1}}\\right),\n",
    "\\\\\n",
    "\\frac{dP_{2}}{dt} &=&r_{2}P_{2}\\left(1-\\frac{P_{1}+P_{2}}{K_{2}}\\right).\n",
    "\\end{eqnarray*}\n",
    "\n",
    "Analyse the behaviour of $P_{1},P_{2}$ in the following cases, by plotting $\n",
    "P_{1},P_{2}\\,$vs $t$ and $P_{1}$ vs $P_{2}$:\n",
    "\n",
    "(a). $r_{1}=1/10$, $r_{2}=1/10,$ $K_{1}=100$, $K_{2}=50$ with $P_{1}(0)=10$\n",
    "and $P_{2}(0)=15.$\n",
    "\n",
    "(b). $r_{1}=1/10$, $r_{2}=1/10,$ $K_{1}=100$, $K_{2}=50$ with $P_{1}(0)=130 \n",
    "$ and $P_{2}(0)=200.$\n",
    "\n",
    "(c). $r_{1}=1/10$, $r_{2}=1/100,$ $K_{1}=40$, $K_{2}=50$ with $P_{1}(0)=130 \n",
    "$ and $P_{2}(0)=20.$\n",
    "\n",
    "(d). $r_{1}=1/10$, $r_{2}=1/100,$ $K_{1}=50$, $K_{2}=60$ with $P_{1}(0)=15$\n",
    "and $P_{2}(0)=10.$"
   ]
  },
  {
   "cell_type": "code",
   "execution_count": null,
   "metadata": {},
   "outputs": [],
   "source": [
    "# parameter values\n",
    "r_1, r_2 = 1/10, 1/10\n",
    "\n",
    "K_1, K_2 = 100, 50 \n",
    "\n",
    "P1_0, P2_0 = 10, 15 # initial populations"
   ]
  },
  {
   "cell_type": "markdown",
   "metadata": {},
   "source": [
    "Define a function `dP_dt(P, t)` of a Python list `P=[P1,P2]` describing dP1/dt and dP2/dt. \n",
    "\n",
    "Note: recall that indexing in Python goes 0,1,... so that Pop1 is stored in`P[0]` and Pop2 is stored in `P[1]`"
   ]
  },
  {
   "cell_type": "code",
   "execution_count": null,
   "metadata": {},
   "outputs": [],
   "source": [
    "def dP_dt(P, t): # P=[P1,P2] list\n",
    "    return [r_1*P[0]*(1 - (P[0]+P[1])/K_1), r_2*P[1]*(1 - (P[0]+P[1])/K_2)] "
   ]
  },
  {
   "cell_type": "markdown",
   "metadata": {},
   "source": [
    "Use `odeint` Python function to integrate the pair of odes subject to the initial conditions for time from `tmin` to `tmax`. "
   ]
  },
  {
   "cell_type": "code",
   "execution_count": null,
   "metadata": {},
   "outputs": [],
   "source": [
    "tmin=0\n",
    "tmax=100.\n",
    "\n",
    "ts = np.linspace(tmin, tmax, 100) # 100 equally spaced t values from tmin to tmax \n",
    "P0 = [P1_0, P2_0] #initial conditions\n",
    "Ps = odeint(dP_dt, P0, ts)\n",
    "P1 = Ps[:,0] # values of P1 on ts values\n",
    "P2 = Ps[:,1] # values of P2 on ts values"
   ]
  },
  {
   "cell_type": "markdown",
   "metadata": {},
   "source": [
    "Plot $P_{1}$ and $P_{2}$ vs $t$ and asymptotic lines."
   ]
  },
  {
   "cell_type": "code",
   "execution_count": null,
   "metadata": {},
   "outputs": [],
   "source": [
    "plt.figure(3)\n",
    "plt.plot(ts, P1, \"-\", label=\"Pop 1\")\n",
    "plt.plot(ts, P2, \"-\", label=\"Pop 2\")\n",
    "plt.xlabel(\"Time\")\n",
    "plt.ylabel(\"Population\")\n",
    "plt.legend();"
   ]
  },
  {
   "cell_type": "markdown",
   "metadata": {},
   "source": [
    "Notice that as $t\\rightarrow \\infty$ then $(P_{1},P_{2})\\rightarrow (K_{1},0)$ for $K_{1}>K_{2}$ and  $(P_{1},P_{2})\\rightarrow (0,K_{2})$ for $K_{1}<K_{2}$. \n",
    "\n",
    "We can add the asymptotic lines to the above graph as follows"
   ]
  },
  {
   "cell_type": "code",
   "execution_count": null,
   "metadata": {},
   "outputs": [],
   "source": [
    "P1_infty, P2_infty = K_1, 0\n",
    "if K_2>K_1:\n",
    "    P1_infty, P2_infty = 0,K_2\n",
    "plt.plot([tmin,tmax],[P1_infty,P1_infty],\"b--\")\n",
    "plt.plot([tmin,tmax],[P2_infty,P2_infty],\"r--\")\n",
    "\n",
    "plt.plot(ts, P1, \"-\", label=\"Pop 1\")\n",
    "plt.plot(ts, P2, \"-\", label=\"Pop 2\")\n",
    "plt.xlabel(\"Time\")\n",
    "plt.ylabel(\"Population\")\n",
    "plt.legend();"
   ]
  },
  {
   "cell_type": "markdown",
   "metadata": {},
   "source": [
    "Plot $P_{1}$ vs $P_{2}$ with initial point marked with an x. We also plot the lines $P_{1}+P_{2}=K_{1}$ and $P_{1}+P_{2} =K_{2}$."
   ]
  },
  {
   "cell_type": "code",
   "execution_count": null,
   "metadata": {},
   "outputs": [],
   "source": [
    "plt.figure(4)\n",
    "\n",
    "plt.plot(P1_0, P2_0,'kX') # mark initial point with x\n",
    "\n",
    "plt.plot(P1, P2, 'k-')\n",
    "plt.plot([0,K_1],[K_1,0],'r-')\n",
    "plt.plot([0,K_2],[K_2,0],'b-')\n",
    "plt.text(K_1/2, K_1/2,' P1+P2='+str(K_1))\n",
    "plt.text(K_2/2, K_2/2,' P1+P2='+str(K_2))\n",
    "plt.xlabel(\"P1\")\n",
    "plt.ylabel(\"P2\")\n",
    "plt.title(\"P1 vs P2 for K1=\"+str(K_1)+\" and K2=\"+str(K_2));\n"
   ]
  },
  {
   "cell_type": "code",
   "execution_count": null,
   "metadata": {},
   "outputs": [],
   "source": []
  },
  {
   "cell_type": "markdown",
   "metadata": {},
   "source": [
    "### Q.3(*) Lotka-Volterra Predator/Prey System\n",
    "Consider a prey species with population size $x$ and a predator species with population size $y$\n",
    "where \n",
    "\\begin{eqnarray*}\n",
    "\\frac{dx}{dt} &=&x(a_{1}-b_{1}y), \\\\\n",
    "\\frac{dy}{dt} &=&y(-a_{2}+b_{2}x),\n",
    "\\end{eqnarray*}\n",
    "\n",
    "with $a_{1}, a_{2}, b_{1}, b_{2}>0$. Analyse the behaviour of the system for $a_{1}=3, a_{2}=5/2$ and  $b_{1}=2,b_{2}=1$ by plotting $x,y$ vs $t$, and $x$ vs $y$ in the following cases:\n",
    "\n",
    "(a). $x(0)=1$ and $y(0)=1$.\n",
    "\n",
    "(b). $x(0)=0.1+5/2$ and $y(0)=0.1+3/2$. What behaviour do you observe?\n",
    "\n",
    "(c).  $x(0)=1$ and $y(0)=5$."
   ]
  },
  {
   "cell_type": "markdown",
   "metadata": {},
   "source": [
    "Use similar coding to above"
   ]
  },
  {
   "cell_type": "code",
   "execution_count": null,
   "metadata": {},
   "outputs": [],
   "source": [
    "a_1, a_2, b_1, b_2 = 3, 5/2, 2, 1\n",
    "\n",
    "x0, y0 = 0.1+5/2, 0.1+3/2 # initial populations\n",
    "\n",
    "timerange=6. \n",
    "\n",
    "def dP_dt(P, t): # P=[x,y] list\n",
    "    return [P[0]*(a_1 - b_1*P[1]), P[1]*(-a_2 +b_2 *P[0])] \n",
    "\n",
    "ts = np.linspace(0, timerange, 150)\n",
    "P0 = [x0, y0] #initial conditions\n",
    "Ps = odeint(dP_dt, P0, ts)\n",
    "prey = Ps[:,0]\n",
    "predators = Ps[:,1]\n",
    "\n",
    "plt.figure(5)\n",
    "plt.plot(ts, prey, \"b-\", label=\"Prey x\")\n",
    "plt.plot(ts, predators, \"r-\", label=\"Predator y\")\n",
    "plt.xlabel(\"Time\")\n",
    "plt.ylabel(\"Population\")\n",
    "plt.legend();"
   ]
  },
  {
   "cell_type": "markdown",
   "metadata": {},
   "source": [
    "Equlibrium values $x_{eq}=a_{2}/b_{2}$ and $y_{eq}=a_{1}/b_{1}$. Notice that the maximum/minimum of $x$ occurs when $y=y_{eq}$ and similarly, the maximum/minimum of $y$ occurs when $x=x_{eq}$"
   ]
  },
  {
   "cell_type": "code",
   "execution_count": null,
   "metadata": {},
   "outputs": [],
   "source": [
    "xeq , yeq =a_2/b_2, a_1/b_1\n",
    "print(\"(xeq,yeq)=\",(xeq,yeq))"
   ]
  },
  {
   "cell_type": "markdown",
   "metadata": {},
   "source": [
    "Look at values of $x$ for $y=y_{eq}$ and of $y$ for $x=x_{eq}$ in the last plot"
   ]
  },
  {
   "cell_type": "code",
   "execution_count": null,
   "metadata": {},
   "outputs": [],
   "source": [
    "plt.plot([0,timerange],[xeq,xeq],\"b--\")\n",
    "plt.plot([0,timerange],[yeq,yeq],\"r--\")\n",
    "\n",
    "plt.plot(ts, prey, \"b-\", label=\"Prey x\")\n",
    "plt.plot(ts, predators, \"r-\", label=\"Predator y\")\n",
    "plt.xlabel(\"Time\")\n",
    "plt.ylabel(\"Population\")\n",
    "plt.legend();"
   ]
  },
  {
   "cell_type": "code",
   "execution_count": null,
   "metadata": {},
   "outputs": [],
   "source": []
  },
  {
   "cell_type": "markdown",
   "metadata": {},
   "source": [
    "Plot $x$ vs $y$ and show the equilibrium point. This plot shows that the system is periodic."
   ]
  },
  {
   "cell_type": "code",
   "execution_count": null,
   "metadata": {},
   "outputs": [],
   "source": [
    "plt.figure(6)\n",
    "plt.plot(prey, predators, \"-\")\n",
    "plt.plot([xeq],[yeq],'rx')\n",
    "plt.text(xeq*(1.01),yeq*(1.01),str((xeq,yeq)))\n",
    "plt.xlabel(\"Prey x\")\n",
    "plt.ylabel(\"Predator y\")\n",
    "plt.title(\"Prey x vs Predator y\");"
   ]
  },
  {
   "cell_type": "markdown",
   "metadata": {},
   "source": [
    "Add lines $x=x_{eq}$ and $y=y_{eq}$ to this plot"
   ]
  },
  {
   "cell_type": "code",
   "execution_count": null,
   "metadata": {},
   "outputs": [],
   "source": [
    "miny=min(predators)\n",
    "maxy=max(predators)\n",
    "dely=maxy-miny\n",
    "plt.plot([xeq,xeq],[miny-dely*0.05,maxy+dely*0.05],\"r--\")\n",
    "\n",
    "minx=min(prey)\n",
    "maxx=max(prey)\n",
    "delx=maxx-minx\n",
    "plt.plot([minx-delx*0.05,maxx+delx*0.05],[yeq,yeq],\"b--\")\n",
    "\n",
    "plt.plot(prey, predators, \"-\")\n",
    "plt.plot([xeq],[yeq],'rx')\n",
    "plt.text(xeq*(1.01),yeq*(1.01),str((xeq,yeq)))\n",
    "plt.xlabel(\"Prey x\")\n",
    "plt.ylabel(\"Predator y\")\n",
    "plt.title(\"Prey x vs Predator y\");"
   ]
  },
  {
   "cell_type": "code",
   "execution_count": null,
   "metadata": {},
   "outputs": [],
   "source": []
  },
  {
   "cell_type": "code",
   "execution_count": null,
   "metadata": {},
   "outputs": [],
   "source": []
  },
  {
   "cell_type": "code",
   "execution_count": null,
   "metadata": {},
   "outputs": [],
   "source": []
  }
 ],
 "metadata": {
  "kernelspec": {
   "display_name": "Python 3 (ipykernel)",
   "language": "python",
   "name": "python3"
  },
  "language_info": {
   "codemirror_mode": {
    "name": "ipython",
    "version": 3
   },
   "file_extension": ".py",
   "mimetype": "text/x-python",
   "name": "python",
   "nbconvert_exporter": "python",
   "pygments_lexer": "ipython3",
   "version": "3.11.4"
  }
 },
 "nbformat": 4,
 "nbformat_minor": 4
}
